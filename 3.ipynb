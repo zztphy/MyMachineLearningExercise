{
 "cells": [
  {
   "cell_type": "code",
   "execution_count": 3,
   "metadata": {},
   "outputs": [
    {
     "name": "stderr",
     "output_type": "stream",
     "text": [
      "/Library/Frameworks/Python.framework/Versions/3.6/lib/python3.6/importlib/_bootstrap.py:205: RuntimeWarning: numpy.dtype size changed, may indicate binary incompatibility. Expected 96, got 88\n",
      "  return f(*args, **kwds)\n"
     ]
    }
   ],
   "source": [
    "import tensorflow as tf\n",
    "from tensorflow.examples.tutorials.mnist import input_data\n",
    "import numpy as np"
   ]
  },
  {
   "cell_type": "code",
   "execution_count": 4,
   "metadata": {},
   "outputs": [
    {
     "name": "stdout",
     "output_type": "stream",
     "text": [
      "WARNING:tensorflow:From <ipython-input-4-6dcbe75a08cf>:1: read_data_sets (from tensorflow.contrib.learn.python.learn.datasets.mnist) is deprecated and will be removed in a future version.\n",
      "Instructions for updating:\n",
      "Please use alternatives such as official/mnist/dataset.py from tensorflow/models.\n",
      "WARNING:tensorflow:From /Library/Frameworks/Python.framework/Versions/3.6/lib/python3.6/site-packages/tensorflow/contrib/learn/python/learn/datasets/mnist.py:260: maybe_download (from tensorflow.contrib.learn.python.learn.datasets.base) is deprecated and will be removed in a future version.\n",
      "Instructions for updating:\n",
      "Please write your own downloading logic.\n",
      "WARNING:tensorflow:From /Library/Frameworks/Python.framework/Versions/3.6/lib/python3.6/site-packages/tensorflow/contrib/learn/python/learn/datasets/mnist.py:262: extract_images (from tensorflow.contrib.learn.python.learn.datasets.mnist) is deprecated and will be removed in a future version.\n",
      "Instructions for updating:\n",
      "Please use tf.data to implement this functionality.\n",
      "Extracting MnistData/train-images-idx3-ubyte.gz\n",
      "WARNING:tensorflow:From /Library/Frameworks/Python.framework/Versions/3.6/lib/python3.6/site-packages/tensorflow/contrib/learn/python/learn/datasets/mnist.py:267: extract_labels (from tensorflow.contrib.learn.python.learn.datasets.mnist) is deprecated and will be removed in a future version.\n",
      "Instructions for updating:\n",
      "Please use tf.data to implement this functionality.\n",
      "Extracting MnistData/train-labels-idx1-ubyte.gz\n",
      "WARNING:tensorflow:From /Library/Frameworks/Python.framework/Versions/3.6/lib/python3.6/site-packages/tensorflow/contrib/learn/python/learn/datasets/mnist.py:110: dense_to_one_hot (from tensorflow.contrib.learn.python.learn.datasets.mnist) is deprecated and will be removed in a future version.\n",
      "Instructions for updating:\n",
      "Please use tf.one_hot on tensors.\n",
      "Extracting MnistData/t10k-images-idx3-ubyte.gz\n",
      "Extracting MnistData/t10k-labels-idx1-ubyte.gz\n",
      "WARNING:tensorflow:From /Library/Frameworks/Python.framework/Versions/3.6/lib/python3.6/site-packages/tensorflow/contrib/learn/python/learn/datasets/mnist.py:290: DataSet.__init__ (from tensorflow.contrib.learn.python.learn.datasets.mnist) is deprecated and will be removed in a future version.\n",
      "Instructions for updating:\n",
      "Please use alternatives such as official/mnist/dataset.py from tensorflow/models.\n"
     ]
    }
   ],
   "source": [
    "mnist = input_data.read_data_sets(\"MnistData/\", one_hot = True)"
   ]
  },
  {
   "cell_type": "code",
   "execution_count": 5,
   "metadata": {},
   "outputs": [],
   "source": [
    "L_1 = 200\n",
    "L_2 = 100\n",
    "L_3 = 60\n",
    "L_4 = 30\n",
    "L_5 = 10"
   ]
  },
  {
   "cell_type": "code",
   "execution_count": 6,
   "metadata": {},
   "outputs": [],
   "source": [
    "X = tf.placeholder(tf.float32, shape=[None, 784])\n",
    "Y_acc = tf.placeholder(tf.float32, shape=[None, 10])"
   ]
  },
  {
   "cell_type": "code",
   "execution_count": 18,
   "metadata": {},
   "outputs": [
    {
     "name": "stdout",
     "output_type": "stream",
     "text": [
      "WARNING:tensorflow:From /Library/Frameworks/Python.framework/Versions/3.6/lib/python3.6/site-packages/tensorflow/python/util/tf_should_use.py:118: initialize_all_variables (from tensorflow.python.ops.variables) is deprecated and will be removed after 2017-03-02.\n",
      "Instructions for updating:\n",
      "Use `tf.global_variables_initializer` instead.\n"
     ]
    }
   ],
   "source": [
    "W_1 = tf.Variable(tf.zeros([784, L_1]))\n",
    "W_2 = tf.Variable(tf.zeros([L_1, L_2]))\n",
    "W_3 = tf.Variable(tf.zeros([L_2, L_3]))\n",
    "W_4 = tf.Variable(tf.zeros([L_3, L_4]))\n",
    "W_5 = tf.Variable(tf.zeros([L_4, L_5]))\n",
    "b_1 = tf.Variable(tf.zeros([L_1]))\n",
    "b_2 = tf.Variable(tf.zeros([L_2]))\n",
    "b_3 = tf.Variable(tf.zeros([L_3]))\n",
    "b_4 = tf.Variable(tf.zeros([L_4]))\n",
    "b_5 = tf.Variable(tf.zeros([L_5]))\n",
    "init = tf.initialize_all_variables()"
   ]
  },
  {
   "cell_type": "code",
   "execution_count": 8,
   "metadata": {},
   "outputs": [],
   "source": [
    "f_1 = tf.nn.relu(tf.matmul(X, W_1) + b_1)\n",
    "f_2 = tf.nn.relu(tf.matmul(f_1, W_2) + b_2)\n",
    "f_3 = tf.nn.relu(tf.matmul(f_2, W_3) + b_3)\n",
    "f_4 = tf.nn.relu(tf.matmul(f_3, W_4) + b_4)\n",
    "Y_pred = tf.nn.softmax(tf.matmul(f_4, W_5) + b_5)"
   ]
  },
  {
   "cell_type": "code",
   "execution_count": 9,
   "metadata": {},
   "outputs": [],
   "source": [
    "Loss = -tf.reduce_sum(Y_acc * tf.log(Y_pred))"
   ]
  },
  {
   "cell_type": "code",
   "execution_count": 10,
   "metadata": {},
   "outputs": [],
   "source": [
    "is_correct = tf.equal(tf.argmax(Y_acc, 1), tf.argmax(Y_pred, 1))\n",
    "accuracy = tf.reduce_mean(tf.cast(is_correct, tf.float32))"
   ]
  },
  {
   "cell_type": "code",
   "execution_count": 11,
   "metadata": {},
   "outputs": [],
   "source": [
    "learning_rate = 0.003\n",
    "optimizer = tf.train.AdamOptimizer(learning_rate)\n",
    "train_step = optimizer.minimize(Loss)"
   ]
  },
  {
   "cell_type": "code",
   "execution_count": 24,
   "metadata": {},
   "outputs": [],
   "source": [
    "steps = 10000"
   ]
  },
  {
   "cell_type": "code",
   "execution_count": 25,
   "metadata": {},
   "outputs": [],
   "source": [
    "sess = tf.Session()\n",
    "sess.run(init)"
   ]
  },
  {
   "cell_type": "code",
   "execution_count": null,
   "metadata": {},
   "outputs": [
    {
     "name": "stdout",
     "output_type": "stream",
     "text": [
      "Accuracy on train data: 0.150000\n",
      " Loss on train data: 228.975510\n",
      "\n",
      "\n",
      "Accuracy on test data: 0.113500\n",
      " Loss on test data: 23010.824219\n",
      "\n",
      "\n",
      "Accuracy on train data: 0.100000\n",
      " Loss on train data: 230.158630\n",
      "\n",
      "\n",
      "Accuracy on test data: 0.113500\n",
      " Loss on test data: 23011.886719\n",
      "\n",
      "\n",
      "Accuracy on train data: 0.150000\n",
      " Loss on train data: 229.463898\n",
      "\n",
      "\n",
      "Accuracy on test data: 0.113500\n",
      " Loss on test data: 23013.937500\n",
      "\n",
      "\n",
      "Accuracy on train data: 0.090000\n",
      " Loss on train data: 230.305908\n",
      "\n",
      "\n",
      "Accuracy on test data: 0.113500\n",
      " Loss on test data: 23011.835938\n",
      "\n",
      "\n",
      "Accuracy on train data: 0.090000\n",
      " Loss on train data: 230.538834\n",
      "\n",
      "\n",
      "Accuracy on test data: 0.113500\n",
      " Loss on test data: 23011.632812\n",
      "\n",
      "\n",
      "Accuracy on train data: 0.100000\n",
      " Loss on train data: 230.181091\n",
      "\n",
      "\n",
      "Accuracy on test data: 0.113500\n",
      " Loss on test data: 23014.115234\n",
      "\n",
      "\n",
      "Accuracy on train data: 0.090000\n",
      " Loss on train data: 230.737411\n",
      "\n",
      "\n",
      "Accuracy on test data: 0.113500\n",
      " Loss on test data: 23013.541016\n",
      "\n",
      "\n",
      "Accuracy on train data: 0.090000\n",
      " Loss on train data: 230.072296\n",
      "\n",
      "\n",
      "Accuracy on test data: 0.113500\n",
      " Loss on test data: 23012.294922\n",
      "\n",
      "\n",
      "Accuracy on train data: 0.020000\n",
      " Loss on train data: 231.269669\n",
      "\n",
      "\n",
      "Accuracy on test data: 0.113500\n",
      " Loss on test data: 23012.542969\n",
      "\n",
      "\n"
     ]
    }
   ],
   "source": [
    "for i in range(steps):\n",
    "#    if learning_rate >= 0.0001:\n",
    "#        learning_rate = learning_rate * np.exp(-steps)\n",
    "    batch_X, batch_Y = mnist.train.next_batch(100)\n",
    "    train_data={X: batch_X, Y_acc: batch_Y}\n",
    "    sess.run(train_step, feed_dict = train_data)\n",
    "    \n",
    "    a,c = sess.run([accuracy, Loss], feed_dict = train_data)\n",
    "    \n",
    "    if i%1000 == 0:\n",
    "        print(\"Accuracy on train data: %f\\n Loss on train data: %f\\n\\n\" %(a,c) )\n",
    "    \n",
    "    test_data = {X:mnist.test.images, Y_acc:mnist.test.labels}\n",
    "    a,c = sess.run([accuracy, Loss], feed_dict=test_data)\n",
    "    if i%1000 == 0:\n",
    "        print(\"Accuracy on test data: %f\\n Loss on test data: %f\\n\\n\" %(a,c) )"
   ]
  },
  {
   "cell_type": "code",
   "execution_count": null,
   "metadata": {},
   "outputs": [],
   "source": []
  }
 ],
 "metadata": {
  "kernelspec": {
   "display_name": "Python 3",
   "language": "python",
   "name": "python3"
  },
  "language_info": {
   "codemirror_mode": {
    "name": "ipython",
    "version": 3
   },
   "file_extension": ".py",
   "mimetype": "text/x-python",
   "name": "python",
   "nbconvert_exporter": "python",
   "pygments_lexer": "ipython3",
   "version": "3.6.1"
  }
 },
 "nbformat": 4,
 "nbformat_minor": 2
}
